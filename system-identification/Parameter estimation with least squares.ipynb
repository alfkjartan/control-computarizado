{
 "cells": [
  {
   "cell_type": "markdown",
   "metadata": {},
   "source": [
    "# Least-squares parameter estimation\n",
    "\n",
    "The model structure used is the so-called ARX (Auto-Regressive with eXogenous input) model:\n",
    "![ARX block diagram](arx-block.png \"ARX model\")\n",
    " where $u(k)$ is a known input signal, $y(k)$ is the output signal and $e(k)$ is a disturbance (an unknown input signal) in the form of a zero-mean white noise sequence.\n",
    " \n",
    " The model can be written\n",
    " \\begin{align*}\n",
    "  A(\\text{q}) y(k) &= B(\\text{q})u(k) + \\text{q}^n e(k)\\\\\n",
    "  (\\text{q}^n + a_1\\text{q}^{n-1} + \\cdots + a_n)y(k) &= (b_0\\text{q}^{m} + b_1\\text{q}^{m-1} + \\cdots + b_m)u(k) + \\text{q}^n e(k)\\\\\n",
    "  y(k+n) + a_1 y(k+n-1) + \\cdots + a_n y(k) &= b_0u(k+m) + b_1u(k+m-1) + \\cdots + b_m u(k) + e(k+n)\\\\\n",
    "  y(k+1) + a_1y(k) + \\cdots + a_n y(k-n+1) &= b_0 u(k+m-n+1) + b_1u(k+m-n) + \\cdots + b_m u(k-n+1)) + e(k+1)\n",
    "  \\end{align*}\n",
    "  The one-step-ahead predictor for this model becomes \n",
    "  \\begin{align*}\n",
    "  \\hat{y}(k+1) &= -a_1 y(k) - a_2 y(k-1) - \\cdots - a_n y(k-n+1) \\\\ &\\qquad + b_0 u(k+m-n+1) + b_1 u(k+m-n) +  \\cdots + b_m u(k-n+1)\\\\\n",
    "               & = \\underbrace{\\begin{bmatrix} -y(k) & \\cdots & -y(k-n+1) & u(k+m-n+1) & \\cdots & u(k-n+1)\\end{bmatrix}}_{\\varphi^{T}(k+1)} \\underbrace{\\begin{bmatrix} a_1\\\\\\vdots\\\\a_n\\\\b_0\\\\\\vdots\\\\b_m\\end{bmatrix}}_{\\theta}\\\\\n",
    "   &= \\varphi^{T}(k+1)\\theta.\n",
    "  \\end{align*}\n",
    "  Note that the white noise term $e(k+1)$ by definition cannot be predicted from knowledge of previous values in the sequence (which we don't know) nor from previous output values $y(t), \\; t \\le k$ (which could have been used to estimate $\\hat{e}(k)$). Therefore $e(k+1)$ is predicted by its mean value which is zero. Note also that if our model with $\\theta = \\theta^*$ is perfect ($\\theta^*$ contains the true parameters for the system which generated the data), then the prediction error equals the white noise disturbance: $\\epsilon(k+1) = y(k+1) - \\varphi^{T}(k+1)\\theta^* = e(k+1)$. Therefore, we can check how good a models is by testing how close the prediction errors resembles a white noise sequence.\n",
    "\n",
    "  The system of equations in the unknown system parameters $\\theta$ is\n",
    "  $ \\Phi \\theta = y, $\n",
    "  where\n",
    "  \\begin{align*}\n",
    "  \\Phi &= \\begin{bmatrix} \\varphi^{T}(n+1)\\\\\\varphi^{T}(n+2)\\\\\\vdots\\\\\\varphi^{T}(N)\\end{bmatrix},\\\\\n",
    "  y &= \\begin{bmatrix} y(n+1)\\\\y(n+2)\\\\\\vdots\\\\y(N)\\end{bmatrix}.\n",
    "  \\end{align*}\n",
    "\n",
    "  The least-squares solution to this system of equations is, by definition, the solution $\\hat{\\theta}$ which minimizes the sum of squares of the residuals $\\epsilon = y-\\Phi\\theta$, i.e. the solution that minimizes the criterion\n",
    "  $ J(\\theta) = \\epsilon^{T}\\epsilon = \\sum_i \\epsilon_i^2. $ \n",
    "  It is given by \n",
    "  $ \\hat{\\theta}_{LS} = \\underbrace{(\\Phi^{T}\\Phi)^{-1}\\Phi^{T}}_{\\Phi^+} y, $\n",
    "  where $\\Phi^+$ is called the *Moore-Penrose invers* of the (typically) non-square, tall matrix $\\Phi$. \n",
    "\n"
   ]
  },
  {
   "cell_type": "markdown",
   "metadata": {},
   "source": [
    "# Instructions\n",
    "1. Download the data: __[http://alfkjartan.github.io/files/sysid_exercise_data.mat](http://alfkjartan.github.io/files/sysid_exercise_data.mat)__. The data consist of 12 vectors `u1`, `y1`, `u1_val`, `y1_val`, `u2`, `y2`, `u2_val`, `y2_val`, `u3`, `y3`, `u3_val`, `y3_val` corresponding to three different LTI systems.\n",
    "     - `ui`  :: input data for system $i$ \n",
    "     - `yi` :: output data for system $i$ \n",
    "     - `ui_val` :: validation input data for system $i$ \n",
    "     - `yi_val` :: validation output data for system $i$\n",
    "     The systems are \n",
    "     1. $ H_1(z) = \\frac{b}{z+a} = \\frac{0.2}{z -0.8} $\n",
    "     2. $ H_2(z) = \\frac{b_0 z + b_1}{z(z+a_1)} = \\frac{0.0625z + 0.0375}{z(z - 0.9)} $\n",
    "     3. $ H_3(z) = \\frac{b}{z^2 + a_1z + a_2} = \\frac{0.18}{z^2 - 1.4z + 0.58} $\n",
    "2. For each case estimate a model using the input-output data. Formulate the one-step ahead predictor $ \\hat{y}(k) = \\varphi^T(k)\\theta$ and the system of equations \n",
    "     $\\Phi \\theta = y$, and find the least-squares solution to the system. Compare with the true parameters.\n",
    "3. Validate your model using the validation data. Let's say you have obtained estimates of the numerator $\\hat{B}(z)$ and denominator $\\hat{A}(z)$ of your model. You can then simulate the model using the validation data (a data set which is **not** used for parameter estimation)\n"
   ]
  },
  {
   "cell_type": "code",
   "execution_count": 2,
   "metadata": {},
   "outputs": [],
   "source": [
    "import numpy as np\n",
    "import scipy.io as sio\n",
    "import matplotlib.pyplot as plt\n",
    "import control"
   ]
  },
  {
   "cell_type": "markdown",
   "metadata": {},
   "source": [
    "## Load the data"
   ]
  },
  {
   "cell_type": "code",
   "execution_count": 3,
   "metadata": {},
   "outputs": [
    {
     "name": "stdout",
     "output_type": "stream",
     "text": [
      "--2019-10-03 13:52:24--  http://alfkjartan.github.io/files/sysid_exercise_data.mat\n",
      "Resolving alfkjartan.github.io (alfkjartan.github.io)... 185.199.110.153, 185.199.111.153, 185.199.109.153, ...\n",
      "Connecting to alfkjartan.github.io (alfkjartan.github.io)|185.199.110.153|:80... connected.\n",
      "HTTP request sent, awaiting response... 200 OK\n",
      "Length: 10576 (10K) [application/octet-stream]\n",
      "Saving to: ‘sysid_exercise_data.mat.5’\n",
      "\n",
      "sysid_exercise_data 100%[===================>]  10.33K  --.-KB/s    in 0s      \n",
      "\n",
      "2019-10-03 13:52:25 (136 MB/s) - ‘sysid_exercise_data.mat.5’ saved [10576/10576]\n",
      "\n"
     ]
    }
   ],
   "source": [
    "!wget http://alfkjartan.github.io/files/sysid_exercise_data.mat\n",
    "data = sio.loadmat(\"sysid_exercise_data.mat\")"
   ]
  },
  {
   "cell_type": "markdown",
   "metadata": {},
   "source": [
    "## Plot the data for system 1"
   ]
  },
  {
   "cell_type": "code",
   "execution_count": 4,
   "metadata": {},
   "outputs": [
    {
     "data": {
      "text/plain": [
       "200"
      ]
     },
     "execution_count": 4,
     "metadata": {},
     "output_type": "execute_result"
    },
    {
     "data": {
      "image/png": "[encoded data removed]",
      "text/plain": [
       "<Figure size 1008x122.4 with 1 Axes>"
      ]
     },
     "metadata": {},
     "output_type": "display_data"
    },
    {
     "data": {
      "image/png": "[encoded data removed]",
      "text/plain": [
       "<Figure size 1008x122.4 with 1 Axes>"
      ]
     },
     "metadata": {},
     "output_type": "display_data"
    }
   ],
   "source": [
    "N = len(data[\"u1\"])\n",
    "plt.figure(figsize=(14,1.7))\n",
    "plt.step(range(N),data[\"u1\"])\n",
    "plt.ylabel(\"u_1\")\n",
    "plt.figure(figsize=(14,1.7))\n",
    "plt.step(range(N),data[\"y1\"])\n",
    "plt.ylabel(\"y_1\")\n",
    "data[\"u1\"].size"
   ]
  },
  {
   "cell_type": "markdown",
   "metadata": {},
   "source": [
    "## Identify first order model for system 1\n",
    "Consider the model structure \n",
    "$$y(k) = \\frac{b_0\\text{q}+b_1}{\\text{q}+a} \\text{q}^{-1} u(k),$$\n",
    "which is a first order model with one zero, one pole and one delay. The true system has $b_0=0.2$, $b_1=0$ and $a=-0.8$.\n",
    "\n",
    "The ARX model can be written \n",
    "$$ y(k+1) = -ay(k) + b_0u(k) + b_1u(k-1) + e(k+1),$$\n",
    "and so the one-step-ahead predictor becomes\n",
    "$$ \\hat{y}(k+1) = -ay(k) + b_0u(k) + b_1u(k-1) = \\begin{bmatrix} -y(k) & u(k) & u(k-1) \\end{bmatrix}\\begin{bmatrix} a\\\\b_0\\\\b_1 \\end{bmatrix}. $$\n",
    "\n",
    "The systems of equations becomes\n",
    "$$ \\underbrace{\\begin{bmatrix} -y(2) & u(2) & u(1)\\\\-y(3) & u(3) & u(2)\\\\ \\vdots & \\vdots & \\vdots\\\\ -y(N-1) & u(N-1) & u(N-2) \\end{bmatrix}}_{\\Phi} \\underbrace{\\begin{bmatrix} a\\\\b_0\\\\b_1\\\\\\end{bmatrix}}_{\\theta} =\n",
    "\\begin{bmatrix} y(3)\\\\y(4)\\\\\\vdots\\\\y(N) \\end{bmatrix},$$\n",
    "which is solved using least squares."
   ]
  },
  {
   "cell_type": "code",
   "execution_count": 6,
   "metadata": {},
   "outputs": [
    {
     "name": "stdout",
     "output_type": "stream",
     "text": [
      "Estimated: a = -0.805740\n",
      "Estimated: b_0 = 0.202142\n",
      "Estimated: b_1 = 0.000280\n"
     ]
    }
   ],
   "source": [
    "y = data[\"y1\"]\n",
    "u = data[\"u1\"]\n",
    "Phi = np.array([-np.ravel(y[1:N-1]), \n",
    "                np.ravel(u[1:N-1]), \n",
    "                np.ravel(u[:N-2])]).T\n",
    "yy = y[2:]\n",
    "theta_ls = np.linalg.lstsq(Phi, yy)\n",
    "theta_ls\n",
    "print(\"Estimated: a = %f\" % theta_ls[0][0])\n",
    "print(\"Estimated: b_0 = %f\" % theta_ls[0][1])\n",
    "print(\"Estimated: b_1 = %f\" % theta_ls[0][2])\n"
   ]
  },
  {
   "cell_type": "markdown",
   "metadata": {},
   "source": [
    "## Validation\n",
    "The validation is always done one input-output data that were **not** used in the parameter estimation. It is also recommended to use a k-step-ahead predictor. See section about validation further down."
   ]
  },
  {
   "cell_type": "code",
   "execution_count": 16,
   "metadata": {},
   "outputs": [
    {
     "name": "stdout",
     "output_type": "stream",
     "text": [
      "Order n=2\n",
      "Data points N=200\n"
     ]
    },
    {
     "data": {
      "text/plain": [
       "Text(0.5,1,'RMSE = 0.033556')"
      ]
     },
     "execution_count": 16,
     "metadata": {},
     "output_type": "execute_result"
    },
    {
     "data": {
      "image/png": "[encoded data removed]",
      "text/plain": [
       "<Figure size 1008x216 with 1 Axes>"
      ]
     },
     "metadata": {},
     "output_type": "display_data"
    }
   ],
   "source": [
    "# Import the predict_lti function which will calculate the k-step ahead prediction.\n",
    "from lti_fcns import predict_lti\n",
    "yv = np.ravel(data[\"y1_val\"])\n",
    "uv = np.ravel(data[\"u1_val\"])\n",
    "k = 8 # The prediction horizon\n",
    "d = 1 # The input delay of the system\n",
    "a = np.array([1, theta_ls[0][0]])\n",
    "b = np.ravel(theta_ls[0][1:])\n",
    "(ypred, tpred) = predict_lti(b,a,yv, uv, k, d)\n",
    "N = len(uv)\n",
    "plt.figure(figsize=(14,3))\n",
    "plt.step(range(N), yv)\n",
    "plt.plot(tpred, ypred, 'ro')\n",
    "\n",
    "# Calculate the Root Mean Square Error (RMSE)\n",
    "err = yv[tpred[0]:] - ypred\n",
    "RMSE = np.sqrt(1.0/N * np.sum( np.square(yv[tpred[0]:] - ypred)))\n",
    "plt.title(\"RMSE = %f\" %RMSE)"
   ]
  },
  {
   "cell_type": "markdown",
   "metadata": {},
   "source": [
    "## Do the other systems on  your own :-)"
   ]
  },
  {
   "cell_type": "code",
   "execution_count": null,
   "metadata": {},
   "outputs": [],
   "source": []
  },
  {
   "cell_type": "code",
   "execution_count": null,
   "metadata": {},
   "outputs": [],
   "source": []
  }
 ],
 "metadata": {
  "kernelspec": {
   "display_name": "Python 3",
   "language": "python",
   "name": "python3"
  },
  "language_info": {
   "codemirror_mode": {
    "name": "ipython",
    "version": 3
   },
   "file_extension": ".py",
   "mimetype": "text/x-python",
   "name": "python",
   "nbconvert_exporter": "python",
   "pygments_lexer": "ipython3",
   "version": "3.5.2"
  }
 },
 "nbformat": 4,
 "nbformat_minor": 2
}
