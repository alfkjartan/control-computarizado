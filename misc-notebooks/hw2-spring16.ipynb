{
 "cells": [
  {
   "cell_type": "code",
   "execution_count": 1,
   "metadata": {
    "collapsed": false
   },
   "outputs": [
    {
     "name": "stderr",
     "output_type": "stream",
     "text": [
      "/home/kjartan/.virtualenvs/jupyter_notebook/src/ipython/IPython/kernel/__init__.py:10: UserWarning: The `IPython.kernel` package has been deprecated. You should import from ipython_kernel or jupyter_client instead.\n",
      "  warn(\"The `IPython.kernel` package has been deprecated. \"\n"
     ]
    }
   ],
   "source": [
    "import numpy as np\n",
    "%matplotlib notebook\n",
    "import matplotlib.pyplot as plt\n",
    "import control.matlab as cm\n",
    "import sympy as sy\n",
    ".s"
   ]
  },
  {
   "cell_type": "code",
   "execution_count": 3,
   "metadata": {
    "collapsed": false
   },
   "outputs": [
    {
     "name": "stdout",
     "output_type": "stream",
     "text": [
      "-s/(omega**2 + s**2) + 1/s\n"
     ]
    }
   ],
   "source": [
    "sS, omegaS = sy.symbols('s, omega')\n",
    "GS = omegaS**2/(sS**2 + omegaS**2)\n",
    "YS = GS/sS\n",
    "print sy.apart(YS, sS)"
   ]
  },
  {
   "cell_type": "code",
   "execution_count": null,
   "metadata": {
    "collapsed": true
   },
   "outputs": [],
   "source": [
    "\n",
    "omega = 1.0\n",
    "\n",
    "# h = np.pi/omega\n",
    "h = 0.2/omega\n",
    "A = np.array([[0, omega], [-omega, 0]])\n",
    "B = np.array([[1],[0]])\n",
    "C = np.array([[1, 0]])\n",
    "D = np.array([[0]])\n",
    "sys_c = cm.ss(A,B,C,D)\n",
    "\n",
    "wh = omega*h\n",
    "F = np.array([[np.cos(wh), np.sin(wh)], [-np.sin(wh), np.cos(wh)]])\n",
    "G = 1.0/omega* np.array([[np.sin(wh)], [np.cos(wh)-1]])\n",
    "sys_d = cm.ss(F,G,C,D, h)\n",
    "\n",
    "Tc = np.linspace(0,8, 300)\n",
    "(yc,tc) = cm.step(sys_c, Tc)\n",
    "Td = h*np.arange(80)\n",
    "(yd,td) = cm.step(sys_d, Td)\n",
    "plt.plot(tc,yc)\n",
    "plt.plot(td,yd[0], '*')\n",
    "plt.xlim([0,8])"
   ]
  },
  {
   "cell_type": "code",
   "execution_count": 10,
   "metadata": {
    "collapsed": false
   },
   "outputs": [
    {
     "data": {
      "text/plain": [
       "(array([[ 0.]]),\n",
       " array([[ 0.,  0.]]),\n",
       " array([[ 0.]]),\n",
       " matrix([[ A = [[ 0.82533561  0.56464247]\n",
       "   [-0.56464247  0.82533561]]\n",
       " \n",
       "  B = [[ 0.56464247]\n",
       "   [-0.17466439]]\n",
       " \n",
       "  C = [[1 0]]\n",
       " \n",
       "  D = [[0]]\n",
       " \n",
       "  dt = 0.6\n",
       "  ,\n",
       "          A = [[ 0.82533561  0.56464247]\n",
       "   [-0.56464247  0.82533561]]\n",
       " \n",
       "  B = [[ 0.56464247]\n",
       "   [-0.17466439]]\n",
       " \n",
       "  C = [[1 0]]\n",
       " \n",
       "  D = [[0]]\n",
       " \n",
       "  dt = 0.6\n",
       "  ]], dtype=object))"
      ]
     },
     "execution_count": 10,
     "metadata": {},
     "output_type": "execute_result"
    }
   ],
   "source": [
    "sys_d2 = cm.c2d(sys_c, h)\n",
    "cm.ssdata([sys_d2,sys_d])\n"
   ]
  },
  {
   "cell_type": "code",
   "execution_count": 3,
   "metadata": {
    "collapsed": false
   },
   "outputs": [],
   "source": [
    "F = np.array([[np.cos(omega*h), np.sin(omega*h)], [-np.sin(omega*h), np.cos(omega*h)]])\n",
    "G = 1.0/omega* np.array([[np.sin(omega*h)], [np.cos(omega*h)-1]])\n",
    "sys_d2 = cm.ss(F,G,C,D, h)\n"
   ]
  },
  {
   "cell_type": "code",
   "execution_count": 35,
   "metadata": {
    "collapsed": false
   },
   "outputs": [
    {
     "data": {
      "text/plain": [
       "(0, 14)"
      ]
     },
     "execution_count": 35,
     "metadata": {},
     "output_type": "execute_result"
    },
    {
     "data": {
      "image/png": "[encoded data removed]",
      "text/plain": [
       "<matplotlib.figure.Figure at 0x7fbe991ecf90>"
      ]
     },
     "metadata": {},
     "output_type": "display_data"
    }
   ],
   "source": [
    "Tc = np.linspace(0,30, 1000)\n",
    "uc = Tc # Unit ramp\n",
    "Td = h*np.arange(400)\n",
    "ud = Td\n",
    "\n",
    "(yr, tc, xc) = cm.lsim(sys_c, uc, Tc)\n",
    "(yrd, td, xd) = cm.lsim(sys_d, ud, Td)\n",
    "\n",
    "plt.plot(tc,yr)\n",
    "plt.plot(td,yrd[0], '*')\n",
    "plt.xlim([0,14])\n",
    "\n"
   ]
  },
  {
   "cell_type": "code",
   "execution_count": 36,
   "metadata": {
    "collapsed": false
   },
   "outputs": [
    {
     "data": {
      "text/plain": [
       "array([ 0. -1.38777878e-17j,  0. +1.38777878e-17j])"
      ]
     },
     "execution_count": 36,
     "metadata": {},
     "output_type": "execute_result"
    }
   ],
   "source": [
    "lmbda = np.linalg.eigvals(F)\n",
    "p = np.linalg.eigvals(A)\n",
    "\n",
    "lmbda - np.exp(p*h)"
   ]
  },
  {
   "cell_type": "code",
   "execution_count": 37,
   "metadata": {
    "collapsed": false
   },
   "outputs": [
    {
     "data": {
      "text/plain": [
       "array([ 0.+1.j,  0.-1.j])"
      ]
     },
     "execution_count": 37,
     "metadata": {},
     "output_type": "execute_result"
    }
   ],
   "source": [
    "p"
   ]
  },
  {
   "cell_type": "code",
   "execution_count": 38,
   "metadata": {
    "collapsed": false
   },
   "outputs": [
    {
     "data": {
      "text/plain": [
       "array([ 0.99500417+0.09983342j,  0.99500417-0.09983342j])"
      ]
     },
     "execution_count": 38,
     "metadata": {},
     "output_type": "execute_result"
    }
   ],
   "source": [
    "lmbda"
   ]
  },
  {
   "cell_type": "code",
   "execution_count": 39,
   "metadata": {
    "collapsed": false
   },
   "outputs": [
    {
     "data": {
      "text/plain": [
       "array([[  0.00000000e+00,  -9.98334166e-02,  -1.98669331e-01,\n",
       "         -2.95520207e-01,  -3.89418342e-01,  -4.79425539e-01,\n",
       "         -5.64642473e-01,  -6.44217687e-01,  -7.17356091e-01,\n",
       "         -7.83326910e-01],\n",
       "       [  9.98334166e-02,   1.38777878e-17,  -9.88359141e-02,\n",
       "         -1.95686790e-01,  -2.89584926e-01,  -3.79592122e-01,\n",
       "         -4.64809057e-01,  -5.44384271e-01,  -6.17522674e-01,\n",
       "         -6.83493493e-01],\n",
       "       [  1.98669331e-01,   9.88359141e-02,   2.77555756e-17,\n",
       "         -9.68508759e-02,  -1.90749012e-01,  -2.80756208e-01,\n",
       "         -3.65973143e-01,  -4.45548356e-01,  -5.18686760e-01,\n",
       "         -5.84657579e-01],\n",
       "       [  2.95520207e-01,   1.95686790e-01,   9.68508759e-02,\n",
       "          0.00000000e+00,  -9.38981356e-02,  -1.83905332e-01,\n",
       "         -2.69122267e-01,  -3.48697481e-01,  -4.21835884e-01,\n",
       "         -4.87806703e-01],\n",
       "       [  3.89418342e-01,   2.89584926e-01,   1.90749012e-01,\n",
       "          9.38981356e-02,   5.55111512e-17,  -9.00071963e-02,\n",
       "         -1.75224131e-01,  -2.54799345e-01,  -3.27937749e-01,\n",
       "         -3.93908567e-01],\n",
       "       [  4.79425539e-01,   3.79592122e-01,   2.80756208e-01,\n",
       "          1.83905332e-01,   9.00071963e-02,   1.11022302e-16,\n",
       "         -8.52169348e-02,  -1.64792149e-01,  -2.37930552e-01,\n",
       "         -3.03901371e-01],\n",
       "       [  5.64642473e-01,   4.64809057e-01,   3.65973143e-01,\n",
       "          2.69122267e-01,   1.75224131e-01,   8.52169348e-02,\n",
       "          1.11022302e-16,  -7.95752138e-02,  -1.52713618e-01,\n",
       "         -2.18684436e-01],\n",
       "       [  6.44217687e-01,   5.44384271e-01,   4.45548356e-01,\n",
       "          3.48697481e-01,   2.54799345e-01,   1.64792149e-01,\n",
       "          7.95752138e-02,   2.22044605e-16,  -7.31384037e-02,\n",
       "         -1.39109222e-01],\n",
       "       [  7.17356091e-01,   6.17522674e-01,   5.18686760e-01,\n",
       "          4.21835884e-01,   3.27937749e-01,   2.37930552e-01,\n",
       "          1.52713618e-01,   7.31384037e-02,   4.44089210e-16,\n",
       "         -6.59708187e-02],\n",
       "       [  7.83326910e-01,   6.83493493e-01,   5.84657579e-01,\n",
       "          4.87806703e-01,   3.93908567e-01,   3.03901371e-01,\n",
       "          2.18684436e-01,   1.39109222e-01,   6.59708187e-02,\n",
       "          4.44089210e-16]])"
      ]
     },
     "execution_count": 39,
     "metadata": {},
     "output_type": "execute_result"
    }
   ],
   "source": [
    "import pdb\n",
    "def mysim(F,G,C,D,u,x0):\n",
    "    x = x0\n",
    "    y = []\n",
    "    for uk in u:\n",
    "        yk = np.dot(C,x) + np.dot(D,uk)\n",
    "        y.append(yk[0])\n",
    "        x = np.dot(F,x) + np.dot(G, uk)\n",
    "    \n",
    "    return np.array(y)\n",
    "        \n",
    "u = np.ones(10)\n",
    "x0 = np.zeros((2,1))\n",
    "y = mysim(F,G,C,D,u,x0)\n",
    "y-yd[0][:10]"
   ]
  },
  {
   "cell_type": "code",
   "execution_count": null,
   "metadata": {
    "collapsed": true
   },
   "outputs": [],
   "source": []
  },
  {
   "cell_type": "code",
   "execution_count": 41,
   "metadata": {
    "collapsed": false
   },
   "outputs": [
    {
     "name": "stdout",
     "output_type": "stream",
     "text": [
      "> /home/kjartan/.virtualenvs/jupyter_notebook/src/ipython/IPython/core/compilerop.py(100)ast_parse()\n",
      "-> return compile(source, filename, symbol, self.flags | PyCF_ONLY_AST, 1)\n",
      "(Pdb) \n",
      "(Pdb) \n",
      "(Pdb) \n",
      "(Pdb) q\n"
     ]
    }
   ],
   "source": [
    "pdb.pm()"
   ]
  },
  {
   "cell_type": "code",
   "execution_count": 42,
   "metadata": {
    "collapsed": false
   },
   "outputs": [
    {
     "data": {
      "text/plain": [
       "array([[ 0.],\n",
       "       [ 0.]])"
      ]
     },
     "execution_count": 42,
     "metadata": {},
     "output_type": "execute_result"
    }
   ],
   "source": [
    "np.dot(F,x0) + np.dot(D, u[0])"
   ]
  },
  {
   "cell_type": "code",
   "execution_count": 46,
   "metadata": {
    "collapsed": false
   },
   "outputs": [
    {
     "data": {
      "text/plain": [
       "(0, 10)"
      ]
     },
     "execution_count": 46,
     "metadata": {},
     "output_type": "execute_result"
    },
    {
     "data": {
      "image/png": "[encoded data removed]",
      "text/plain": [
       "<matplotlib.figure.Figure at 0x7fbe994ad5d0>"
      ]
     },
     "metadata": {},
     "output_type": "display_data"
    }
   ],
   "source": [
    "plt.plot(range(len(y)),y, 'r*')\n",
    "plt.plot(range(len(yd[0])), yd[0], 'bo')\n",
    "plt.xlim([0,10])"
   ]
  },
  {
   "cell_type": "code",
   "execution_count": 1,
   "metadata": {
    "collapsed": false
   },
   "outputs": [
    {
     "data": {
      "text/plain": [
       "0.3191489361702128"
      ]
     },
     "execution_count": 1,
     "metadata": {},
     "output_type": "execute_result"
    }
   ],
   "source": [
    "7.5/23.5"
   ]
  },
  {
   "cell_type": "code",
   "execution_count": null,
   "metadata": {
    "collapsed": true
   },
   "outputs": [],
   "source": []
  }
 ],
 "metadata": {
  "kernelspec": {
   "display_name": "Python 2",
   "language": "python",
   "name": "python2"
  },
  "language_info": {
   "codemirror_mode": {
    "name": "ipython",
    "version": 2
   },
   "file_extension": ".py",
   "mimetype": "text/x-python",
   "name": "python",
   "nbconvert_exporter": "python",
   "pygments_lexer": "ipython2",
   "version": "2.7.6"
  }
 },
 "nbformat": 4,
 "nbformat_minor": 0
}
