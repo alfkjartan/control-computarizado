{
 "cells": [
  {
   "cell_type": "markdown",
   "metadata": {},
   "source": [
    "# Effect of cancelling a process zero\n",
    "The following exercise is taken from Åström & Wittenmark (problem 5.3)\n",
    "\n",
    "Consider the system with pulse-transfer function \n",
    "$$ H(z) = \\frac{z+0.7}{z^2 - 1.8z + 0.81}.$$\n",
    "Use polynomial design to determine a controller such that the closed-loop system has the characteristic polynomial $$ A_c = z^2 -1.5z + 0.7. $$\n",
    "Let the observer polynomial have as low order as possible, and place all observer poles in the origin (dead-beat observer). Consider the following two cases \n",
    "\n",
    "(a) The process zero is cancelled\n",
    "\n",
    "(b) The process zero is not cancelled.\n",
    "\n",
    "Simulate the two cases and discuss the differences between the two controllers. Which one should be preferred?"
   ]
  },
  {
   "cell_type": "code",
   "execution_count": 1,
   "metadata": {},
   "outputs": [],
   "source": [
    "import numpy as np\n",
    "import matplotlib.pyplot as plt\n",
    "import control\n",
    "import sympy as sy"
   ]
  },
  {
   "cell_type": "markdown",
   "metadata": {},
   "source": [
    "## Checking the poles\n",
    "Before solving the problem, let's look at the location of the poles of the plant and the desired closed-loop system."
   ]
  },
  {
   "cell_type": "code",
   "execution_count": 2,
   "metadata": {},
   "outputs": [
    {
     "data": {
      "text/plain": [
       "(array([ 0.90000002,  0.89999998]), array([-0.7]))"
      ]
     },
     "execution_count": 2,
     "metadata": {},
     "output_type": "execute_result"
    },
    {
     "data": {
      "image/png": "[encoded data removed]",
      "text/plain": [
       "<Figure size 432x288 with 1 Axes>"
      ]
     },
     "metadata": {},
     "output_type": "display_data"
    }
   ],
   "source": [
    "H = control.tf([1, 0.7], [1, -1.8, 0.81], 1)\n",
    "control.pzmap(H)"
   ]
  },
  {
   "cell_type": "code",
   "execution_count": 3,
   "metadata": {},
   "outputs": [
    {
     "data": {
      "text/plain": [
       "{0.75 + 0.370809924354783*I: 1, 0.75 - 0.370809924354783*I: 1}"
      ]
     },
     "execution_count": 3,
     "metadata": {},
     "output_type": "execute_result"
    }
   ],
   "source": [
    "z = sy.symbols(\"z\", real=False)\n",
    "Ac = sy.Poly(z**2 - 1.5*z + 0.7,z)\n",
    "sy.roots(Ac)"
   ]
  },
  {
   "cell_type": "markdown",
   "metadata": {},
   "source": [
    "So, the plant has a double pole in $z=0.9$, and the desired closed-loop system has complex-conjugated poles in $z=0.75 \\pm i0.37$."
   ]
  },
  {
   "cell_type": "markdown",
   "metadata": {},
   "source": [
    "## (a)\n",
    "### The feedback controller $F_b(z)$\n",
    "The plant has numerator polynomial $B(z) = z+0.7$ and denominator polynomial $A(z) = z^2 - 1.8z + 0.81$. With the feedback controller $$F_b(z) = \\frac{S(z)}{R(z)}$$ and feedforward $$F_f(z) = \\frac{T(z)}{R(z)}$$ the closed-loop pulse-transfer function from the command signal to the output becomes \n",
    "$$ H_{c}(z) = \\frac{\\frac{T(z)}{R(z)} \\frac{B(z)}{A(z)}}{1 + \\frac{B(z)}{A(z)}\\frac{S(z)}{R(z)}} = \\frac{T(z)(z+0.7)}{A(z)R(z) + S(z)(z+0.7)}.$$\n",
    "To cancel the process zero, $z+0.7$ should be a factor of $R(z)$. Write $R(z)= \\bar{R}(z)(z+0.7)$ to obtain the Diophantine equation\n",
    "$$ A(z)\\bar{R}(z) + S(z) = A_c(z)A_o(z).$$\n"
   ]
  },
  {
   "cell_type": "markdown",
   "metadata": {},
   "source": [
    "Let's try to find a minimum-order controller that solves the Diophantine equation. The degree of the left hand side (and hence also of the right-hand side) is \n",
    "$$ \\deg (A\\bar{R} + S) = \\deg A + \\deg \\bar{R} = 2 + \\deg\\bar{R}.$$\n",
    "The number of equations obtained when setting the coefficients of the left- and right-hand side equal is the same as the degree of the polynomials on each side (taking into account that the leading coefficient is 1, by convention). \n",
    "\n",
    "The feedback controller can be written\n",
    "$$ F_b(z) = \\frac{S(z)}{R(z)} = \\frac{s_0z^n + s_1z^{n-1} + \\cdots + s_n}{(z+0.7)(z^{n-1} + r_1z^{n-2} + \\cdots + r_{n-1}}, $$\n",
    "which has $(n-1) + (n+1) = 2n$ unknown parameters, where $n = \\deg\\bar{R} + 1$.\n",
    "So to obtain a Diophantine equation which gives exactly as many equations in the coefficients as unknowns, we must have \n",
    "$$ 2 + \\deg\\bar{R} = 2\\deg\\bar{R} + 2 \\quad \\Rightarrow \\quad \\deg\\bar{R} = 0.$$"
   ]
  },
  {
   "cell_type": "markdown",
   "metadata": {},
   "source": [
    "Thus, the controller becomes \n",
    "$$ F_b(z) = \\frac{s_0z + s_1}{z+0.7}, $$\n",
    "and the Diophantine equation \n",
    "$$ z^2 - 1.8z + 0.81 + (s_0z + s_1) = z^2 - 1.5z + 0.7$$\n",
    "$$ z^2 - (1.8-s_0)z + (0.81 + s_1) = z^2 - 1.5z + 0.7, $$\n",
    "with solution \n",
    "$$ s_0 = 1.8 - 1.5 = 0.3, \\qquad s_1 = 0.7-0.81 = -0.11. $$\n",
    "The right hand side of the Diophantine equation consists only of the desired characteristic polynomial $A_c(z)$, and the observer polynomial is $A_o(z) = 1$, in order for the degrees of the left- and right hand side to be the same.\n",
    "\n",
    "Let's verify by calculation using SymPy."
   ]
  },
  {
   "cell_type": "code",
   "execution_count": 8,
   "metadata": {},
   "outputs": [
    {
     "name": "stdout",
     "output_type": "stream",
     "text": [
      "s_0 = 0.300000\n",
      "s_1 = -0.110000\n"
     ]
    }
   ],
   "source": [
    "s0,s1 = sy.symbols(\"s0, s1\")\n",
    "A = sy.Poly(z**2 -1.8*z + 0.81, z)\n",
    "B = sy.Poly(z + 0.7, z)\n",
    "S = sy.Poly(s0*z + s1, z)\n",
    "Ac = sy.Poly(z**2 - 1.5*z + 0.7, z)\n",
    "Ao = sy.Poly(1, z)\n",
    "\n",
    "# Diophantine equation\n",
    "Dioph = A + S - Ac*Ao\n",
    "\n",
    "# Extract the coefficients\n",
    "Dioph_coeffs = Dioph.all_coeffs()\n",
    "\n",
    "# Solve for s0 and s1,\n",
    "sol = sy.solve(Dioph_coeffs, (s0,s1))\n",
    "print('s_0 = %f' % sol[s0])\n",
    "print('s_1 = %f' % sol[s1])"
   ]
  },
  {
   "cell_type": "markdown",
   "metadata": {},
   "source": [
    "### The feedforward controller $F_f(z)$\n",
    "Part of the methodology of the polynomial design, is that the forward controller $F_f(z) = \\frac{T(z)}{R(z)}$ should cancel the observer poles, so we set $T(z) = t_0A_o(z)$. In this case, we simply get $T(z) = t_0$.\n",
    "The scalar factor $t_0$ is chosen to obtain unit DC-gain of  $H_c(z)$, hence \n",
    "$$ H_c(1) = \\frac{t_0}{A_c(1)} = 1 \\quad \\Rightarrow \\quad t_0 = \\frac{1}{A_c(1)} = \\frac{1}{1-1.5+0.7} = 5.$$"
   ]
  },
  {
   "cell_type": "markdown",
   "metadata": {},
   "source": [
    "### Simulate\n",
    "Let's simulate a step-responses from the command signal, and plot both the output and the control signal. "
   ]
  },
  {
   "cell_type": "code",
   "execution_count": 42,
   "metadata": {},
   "outputs": [],
   "source": [
    "t0 = float(1.0/Ac.eval(1))\n",
    "Scoeffs = [float(sol[s0]), float(sol[s1])]\n",
    "Rcoeffs = [1, 0.7]\n",
    "Fb = control.tf(Scoeffs, Rcoeffs, 1)\n",
    "Ff = control.tf([t0], Rcoeffs, 1)\n",
    "Hc = Ff * control.feedback(H, Fb) # From command-signal to output\n",
    "Hcu = Ff * control.feedback(1, Fb*H)"
   ]
  },
  {
   "cell_type": "code",
   "execution_count": 43,
   "metadata": {},
   "outputs": [
    {
     "ename": "ImportError",
     "evalue": "No module named 'numpy.core._multiarray_umath'",
     "output_type": "error",
     "traceback": [
      "\u001b[0;31m---------------------------------------------------------------------------\u001b[0m",
      "\u001b[0;31mImportError\u001b[0m                               Traceback (most recent call last)",
      "\u001b[0;31mImportError\u001b[0m: No module named 'numpy.core._multiarray_umath'"
     ]
    },
    {
     "data": {
      "text/plain": [
       "Text(0.5,1,'Output')"
      ]
     },
     "execution_count": 43,
     "metadata": {},
     "output_type": "execute_result"
    },
    {
     "data": {
      "image/png": "[encoded data removed]",
      "text/plain": [
       "<Figure size 1008x288 with 1 Axes>"
      ]
     },
     "metadata": {},
     "output_type": "display_data"
    }
   ],
   "source": [
    "tvec = np.arange(40)\n",
    "(t1, y1) = control.step_response(Hc,tvec)\n",
    "plt.figure(figsize=(14,4))\n",
    "plt.step(t1, y1[0])\n",
    "plt.xlabel('k')\n",
    "plt.ylabel('y')\n",
    "plt.title('Output')"
   ]
  },
  {
   "cell_type": "code",
   "execution_count": 44,
   "metadata": {},
   "outputs": [
    {
     "ename": "ImportError",
     "evalue": "No module named 'numpy.core._multiarray_umath'",
     "output_type": "error",
     "traceback": [
      "\u001b[0;31m---------------------------------------------------------------------------\u001b[0m",
      "\u001b[0;31mImportError\u001b[0m                               Traceback (most recent call last)",
      "\u001b[0;31mImportError\u001b[0m: No module named 'numpy.core._multiarray_umath'"
     ]
    },
    {
     "data": {
      "text/plain": [
       "Text(0.5,1,'Control signal')"
      ]
     },
     "execution_count": 44,
     "metadata": {},
     "output_type": "execute_result"
    },
    {
     "data": {
      "image/png": "[encoded data removed]",
      "text/plain": [
       "<Figure size 1008x288 with 1 Axes>"
      ]
     },
     "metadata": {},
     "output_type": "display_data"
    }
   ],
   "source": [
    "(t1, y1) = control.step_response(Hcu,tvec)\n",
    "plt.figure(figsize=(14,4))\n",
    "plt.step(t1, y1[0])\n",
    "plt.xlabel('k')\n",
    "plt.ylabel('y')\n",
    "plt.title('Control signal')"
   ]
  },
  {
   "cell_type": "markdown",
   "metadata": {},
   "source": [
    "## Solve (b) on your own"
   ]
  },
  {
   "cell_type": "code",
   "execution_count": null,
   "metadata": {},
   "outputs": [],
   "source": []
  }
 ],
 "metadata": {
  "kernelspec": {
   "display_name": "Python 3",
   "language": "python",
   "name": "python3"
  },
  "language_info": {
   "codemirror_mode": {
    "name": "ipython",
    "version": 3
   },
   "file_extension": ".py",
   "mimetype": "text/x-python",
   "name": "python",
   "nbconvert_exporter": "python",
   "pygments_lexer": "ipython3",
   "version": "3.5.2"
  }
 },
 "nbformat": 4,
 "nbformat_minor": 2
}
