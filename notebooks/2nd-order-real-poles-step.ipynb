{
 "cells": [
  {
   "cell_type": "code",
   "execution_count": 1,
   "metadata": {
    "collapsed": true
   },
   "outputs": [],
   "source": [
    "import numpy as np\n",
    "import sympy as sy"
   ]
  },
  {
   "cell_type": "code",
   "execution_count": 24,
   "metadata": {
    "collapsed": true
   },
   "outputs": [],
   "source": [
    "s = sy.symbols('s', real=False)\n",
    "T,t = sy.symbols('T,t', real=True, positive=True)\n",
    "T1,T2 = sy.symbols('T1,T2', real=True, positive=True)"
   ]
  },
  {
   "cell_type": "code",
   "execution_count": 20,
   "metadata": {
    "collapsed": false
   },
   "outputs": [
    {
     "name": "stdout",
     "output_type": "stream",
     "text": [
      "(T*s + 1)**(-2)\n"
     ]
    }
   ],
   "source": [
    "G = 1/(s*T+1)**2\n",
    "print G"
   ]
  },
  {
   "cell_type": "code",
   "execution_count": 21,
   "metadata": {
    "collapsed": false
   },
   "outputs": [
    {
     "name": "stdout",
     "output_type": "stream",
     "text": [
      "-T/(T*s + 1) - T/(T*s + 1)**2 + 1/s\n"
     ]
    }
   ],
   "source": [
    "Y = sy.apart(G*1/s, s)\n",
    "print Y"
   ]
  },
  {
   "cell_type": "code",
   "execution_count": 22,
   "metadata": {
    "collapsed": false
   },
   "outputs": [
    {
     "name": "stdout",
     "output_type": "stream",
     "text": [
      "(T*exp(t/T) - T - t)*exp(-t/T)/T\n"
     ]
    }
   ],
   "source": [
    "y = sy.inverse_laplace_transform(Y,s,t)\n",
    "print y"
   ]
  },
  {
   "cell_type": "code",
   "execution_count": 25,
   "metadata": {
    "collapsed": false
   },
   "outputs": [
    {
     "name": "stdout",
     "output_type": "stream",
     "text": [
      "1/((T1*s + 1)*(T2*s + 1))\n"
     ]
    }
   ],
   "source": [
    "G2 = 1/((s*T1+1)*(s*T2+1))\n",
    "print G2"
   ]
  },
  {
   "cell_type": "code",
   "execution_count": 26,
   "metadata": {
    "collapsed": false
   },
   "outputs": [
    {
     "name": "stdout",
     "output_type": "stream",
     "text": [
      "-T1**2/((T1 - T2)*(T1*s + 1)) + T2**2/((T1 - T2)*(T2*s + 1)) + 1/s\n"
     ]
    }
   ],
   "source": [
    "Y2 = sy.apart(G2*1/s, s)\n",
    "print Y2"
   ]
  },
  {
   "cell_type": "code",
   "execution_count": 27,
   "metadata": {
    "collapsed": false
   },
   "outputs": [
    {
     "name": "stdout",
     "output_type": "stream",
     "text": [
      "(-T1*exp(t/T2) + T1*exp(t/T2 + t/T1) + T2*exp(t/T1) - T2*exp(t/T2 + t/T1))*exp(-t/T2 - t/T1)/(T1 - T2)\n"
     ]
    }
   ],
   "source": [
    "y2 = sy.inverse_laplace_transform(Y2,s,t)\n"
   ]
  },
  {
   "cell_type": "code",
   "execution_count": 29,
   "metadata": {
    "collapsed": false
   },
   "outputs": [],
   "source": [
    "y2s=sy.simplify(sy.expand(y2))"
   ]
  },
  {
   "cell_type": "code",
   "execution_count": 30,
   "metadata": {
    "collapsed": false
   },
   "outputs": [
    {
     "name": "stdout",
     "output_type": "stream",
     "text": [
      "⎛      t        t⋅(T₁ + T₂)       t        t⋅(T₁ + T₂)⎞    t    t \n",
      "⎜      ──       ───────────       ──       ───────────⎟  - ── - ──\n",
      "⎜      T₂          T₁⋅T₂          T₁          T₁⋅T₂   ⎟    T₂   T₁\n",
      "⎝- T₁⋅ℯ   + T₁⋅ℯ            + T₂⋅ℯ   - T₂⋅ℯ           ⎠⋅ℯ         \n",
      "──────────────────────────────────────────────────────────────────\n",
      "                             T₁ - T₂                              \n"
     ]
    }
   ],
   "source": [
    "sy.pretty_print(y2s)"
   ]
  },
  {
   "cell_type": "code",
   "execution_count": null,
   "metadata": {
    "collapsed": true
   },
   "outputs": [],
   "source": []
  }
 ],
 "metadata": {
  "kernelspec": {
   "display_name": "Python 2",
   "language": "python",
   "name": "python2"
  },
  "language_info": {
   "codemirror_mode": {
    "name": "ipython",
    "version": 2
   },
   "file_extension": ".py",
   "mimetype": "text/x-python",
   "name": "python",
   "nbconvert_exporter": "python",
   "pygments_lexer": "ipython2",
   "version": "2.7.6"
  }
 },
 "nbformat": 4,
 "nbformat_minor": 0
}
