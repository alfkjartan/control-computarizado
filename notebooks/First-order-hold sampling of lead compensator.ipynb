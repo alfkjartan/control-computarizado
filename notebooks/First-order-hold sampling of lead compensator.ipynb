{
 "cells": [
  {
   "cell_type": "code",
   "execution_count": 3,
   "metadata": {},
   "outputs": [],
   "source": [
    "import numpy as np\n",
    "import sympy as sy\n",
    "#import control.matlab as cm\n",
    "sy.init_printing()"
   ]
  },
  {
   "cell_type": "markdown",
   "metadata": {},
   "source": [
    "# First order hold sampling of a lead compensator\n",
    "\\begin{equation}\n",
    "F(s) = K\\frac{s+b}{s+a}\n",
    "\\end{equation}\n",
    "\n"
   ]
  },
  {
   "cell_type": "code",
   "execution_count": 4,
   "metadata": {},
   "outputs": [],
   "source": [
    "h, b, a,K = sy.symbols('h, b, a, K', real=True, positive=True)\n",
    "s, z = sy.symbols('s, z', real=False)"
   ]
  },
  {
   "cell_type": "code",
   "execution_count": 5,
   "metadata": {},
   "outputs": [
    {
     "data": {
      "image/png": "[encoded data removed]",
      "text/latex": [
       "$$\\frac{K b}{a s^{2}} - \\frac{K \\left(a - b\\right)}{a^{2} \\left(a + s\\right)} + \\frac{K \\left(a - b\\right)}{a^{2} s}$$"
      ],
      "text/plain": [
       "K⋅b    K⋅(a - b)    K⋅(a - b)\n",
       "──── - ────────── + ─────────\n",
       "   2    2               2    \n",
       "a⋅s    a ⋅(a + s)      a ⋅s  "
      ]
     },
     "execution_count": 5,
     "metadata": {},
     "output_type": "execute_result"
    }
   ],
   "source": [
    "F = K*(s+b)/(s+a)\n",
    "U = F/s/s\n",
    "Up = sy.apart(U, s)\n",
    "Up"
   ]
  },
  {
   "cell_type": "code",
   "execution_count": 6,
   "metadata": {},
   "outputs": [],
   "source": [
    "from sympy.integrals.transforms import inverse_laplace_transform\n",
    "from sympy.abc import t"
   ]
  },
  {
   "cell_type": "code",
   "execution_count": 9,
   "metadata": {},
   "outputs": [
    {
     "data": {
      "image/png": "[encoded data removed]",
      "text/latex": [
       "$$\\frac{K \\theta\\left(t\\right)}{a^{2}} \\left(a b t e^{a t} + a e^{a t} - a - b e^{a t} + b\\right) e^{- a t}$$"
      ],
      "text/plain": [
       "  ⎛       a⋅t      a⋅t          a⋅t    ⎞  -a⋅t             \n",
       "K⋅⎝a⋅b⋅t⋅ℯ    + a⋅ℯ    - a - b⋅ℯ    + b⎠⋅ℯ    ⋅Heaviside(t)\n",
       "───────────────────────────────────────────────────────────\n",
       "                              2                            \n",
       "                             a                             "
      ]
     },
     "execution_count": 9,
     "metadata": {},
     "output_type": "execute_result"
    }
   ],
   "source": [
    "u = sy.simplify(inverse_laplace_transform(Up, s, t))\n",
    "u"
   ]
  },
  {
   "cell_type": "markdown",
   "metadata": {},
   "source": [
    "## Sampling and taking the z-transform of the step-response\n",
    "\\begin{equation}\n",
    "Y(z) = \\frac{1}{\\lambda} \\left( \\frac{z}{z-\\mathrm{e}^{\\lambda h}} - \\frac{z}{z-1} \\right).\n",
    "\\end{equation}\n",
    "\n",
    "## Dividing by the z-transform of the input signal \n",
    "\\begin{equation}\n",
    "H(z) = \\frac{z-1}{z}Y(z) = \\frac{1}{\\lambda} \\left( \\frac{ \\mathrm{e}^{\\lambda h} - 1 }{ z - \\mathrm{e}^{\\lambda h} } \\right)\n",
    "\\end{equation}\n"
   ]
  },
  {
   "cell_type": "markdown",
   "metadata": {},
   "source": [
    "## Verifying for specific value of lambda"
   ]
  },
  {
   "cell_type": "code",
   "execution_count": 17,
   "metadata": {},
   "outputs": [],
   "source": [
    "lam = -0.5\n",
    "h = 0.1\n",
    "G = cm.tf([1], [1, -lam])\n",
    "Gd = cm.c2d(G, h)\n",
    "Hd = 1/lam * cm.tf([np.exp(lam*h)-1],[1, np.exp(lam*h)])"
   ]
  },
  {
   "cell_type": "code",
   "execution_count": 18,
   "metadata": {},
   "outputs": [
    {
     "name": "stdout",
     "output_type": "stream",
     "text": [
      "\n",
      "  0.09754\n",
      "----------\n",
      "z - 0.9512\n",
      "\n",
      "dt = 0.1\n",
      "\n",
      "\n",
      "  0.09754\n",
      "----------\n",
      "s + 0.9512\n",
      "\n"
     ]
    }
   ],
   "source": [
    "print Gd\n",
    "print Hd"
   ]
  },
  {
   "cell_type": "code",
   "execution_count": null,
   "metadata": {
    "collapsed": true
   },
   "outputs": [],
   "source": []
  }
 ],
 "metadata": {
  "kernelspec": {
   "display_name": "Python 2",
   "language": "python",
   "name": "python2"
  },
  "language_info": {
   "codemirror_mode": {
    "name": "ipython",
    "version": 2
   },
   "file_extension": ".py",
   "mimetype": "text/x-python",
   "name": "python",
   "nbconvert_exporter": "python",
   "pygments_lexer": "ipython2",
   "version": "2.7.14"
  }
 },
 "nbformat": 4,
 "nbformat_minor": 1
}
