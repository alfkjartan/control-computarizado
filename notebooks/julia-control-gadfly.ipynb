{
 "cells": [
  {
   "cell_type": "code",
   "execution_count": 1,
   "metadata": {
    "collapsed": true
   },
   "outputs": [],
   "source": [
    "using Gadfly"
   ]
  },
  {
   "cell_type": "code",
   "execution_count": 2,
   "metadata": {
    "collapsed": true
   },
   "outputs": [],
   "source": [
    "using ControlSystems"
   ]
  },
  {
   "cell_type": "code",
   "execution_count": 3,
   "metadata": {
    "collapsed": false
   },
   "outputs": [
    {
     "data": {
      "text/plain": [
       "TransferFunction:\n",
       "      1.0\n",
       "----------------\n",
       "s^2 + 2.0s + 6.0\n",
       "\n",
       "Continuous-time transfer function model"
      ]
     },
     "execution_count": 3,
     "metadata": {},
     "output_type": "execute_result"
    }
   ],
   "source": [
    "G = tf([1], [1, 2, 6])"
   ]
  },
  {
   "cell_type": "code",
   "execution_count": 18,
   "metadata": {
    "collapsed": false
   },
   "outputs": [
    {
     "ename": "LoadError",
     "evalue": "LoadError: BoundsError: attempt to access (\n300x1 Array{Float64,2}:\n 0.0        \n 0.000546709\n 0.00213586 \n 0.00468969 \n 0.00812922 \n 0.0123748  \n 0.0173468  \n 0.0229659  \n 0.0291538  \n 0.0358335  \n 0.0429299  \n 0.05037    \n 0.0580832  \n ⋮          \n 0.166674   \n 0.166675   \n 0.166675   \n 0.166675   \n 0.166675   \n 0.166676   \n 0.166676   \n 0.166676   \n 0.166675   \n 0.166675   \n 0.166675   \n 0.166675   ,\n\n[0.0,0.0334448,0.0668896,0.100334,0.133779,0.167224,0.200669,0.234114,0.267559,0.301003  …  9.699,9.73244,9.76589,9.79933,9.83278,9.86622,9.89967,9.93311,9.96656,10.0],\n300x2 Array{Float64,2}:\n  0.0         0.0        \n  0.0161573   0.000546709\n  0.0311644   0.00213586 \n  0.0449983   0.00468969 \n  0.0576451   0.00812922 \n  0.0690997   0.0123748  \n  0.0793648   0.0173468  \n  0.0884509   0.0229659  \n  0.0963751   0.0291538  \n  0.103161    0.0358335  \n  0.108839    0.0429299  \n  0.113443    0.05037    \n  0.117014    0.0580832  \n  ⋮                      \n  6.42018e-6  0.166674   \n  5.23885e-6  0.166675   \n  4.09997e-6  0.166675   \n  3.00817e-6  0.166675   \n  1.96749e-6  0.166675   \n  9.81388e-7  0.166676   \n  5.27164e-8  0.166676   \n -8.16211e-7  0.166676   \n -1.62362e-6  0.166675   \n -2.36826e-6  0.166675   \n -3.04935e-6  0.166675   \n -3.66659e-6  0.166675   )\n  at index [4]\nwhile loading In[18], in expression starting on line 3",
     "output_type": "error",
     "traceback": [
      "LoadError: BoundsError: attempt to access (\n300x1 Array{Float64,2}:\n 0.0        \n 0.000546709\n 0.00213586 \n 0.00468969 \n 0.00812922 \n 0.0123748  \n 0.0173468  \n 0.0229659  \n 0.0291538  \n 0.0358335  \n 0.0429299  \n 0.05037    \n 0.0580832  \n ⋮          \n 0.166674   \n 0.166675   \n 0.166675   \n 0.166675   \n 0.166675   \n 0.166676   \n 0.166676   \n 0.166676   \n 0.166675   \n 0.166675   \n 0.166675   \n 0.166675   ,\n\n[0.0,0.0334448,0.0668896,0.100334,0.133779,0.167224,0.200669,0.234114,0.267559,0.301003  …  9.699,9.73244,9.76589,9.79933,9.83278,9.86622,9.89967,9.93311,9.96656,10.0],\n300x2 Array{Float64,2}:\n  0.0         0.0        \n  0.0161573   0.000546709\n  0.0311644   0.00213586 \n  0.0449983   0.00468969 \n  0.0576451   0.00812922 \n  0.0690997   0.0123748  \n  0.0793648   0.0173468  \n  0.0884509   0.0229659  \n  0.0963751   0.0291538  \n  0.103161    0.0358335  \n  0.108839    0.0429299  \n  0.113443    0.05037    \n  0.117014    0.0580832  \n  ⋮                      \n  6.42018e-6  0.166674   \n  5.23885e-6  0.166675   \n  4.09997e-6  0.166675   \n  3.00817e-6  0.166675   \n  1.96749e-6  0.166675   \n  9.81388e-7  0.166676   \n  5.27164e-8  0.166676   \n -8.16211e-7  0.166676   \n -1.62362e-6  0.166675   \n -2.36826e-6  0.166675   \n -3.04935e-6  0.166675   \n -3.66659e-6  0.166675   )\n  at index [4]\nwhile loading In[18], in expression starting on line 3",
      ""
     ]
    }
   ],
   "source": [
    "t = linspace(0,10, 300)';\n",
    "u = linspace(1,1,300)';\n",
    "y,t,x,uout = lsim(G, u[:], t[:]);\n",
    "#plot(t,y)"
   ]
  },
  {
   "cell_type": "code",
   "execution_count": 15,
   "metadata": {
    "collapsed": false
   },
   "outputs": [
    {
     "ename": "LoadError",
     "evalue": "LoadError: MethodError: `plot` has no method matching plot(::Array{Float64,1}, ::Array{Float64,1})\nClosest candidates are:\n  plot{T<:Union{DataType,Function}}(!Matched::Array{T<:Union{DataType,Function},1}, ::Any, !Matched::Any, !Matched::Union{DataType,Function,Gadfly.Element,Gadfly.Theme}...)\n  plot(!Matched::Function, ::Any, !Matched::Any, !Matched::Union{DataType,Function,Gadfly.Element,Gadfly.Theme}...)\n  plot(!Matched::Function, ::Any, !Matched::Any, !Matched::Any, !Matched::Any, !Matched::Union{DataType,Function,Gadfly.Element,Gadfly.Theme}...)\nwhile loading In[15], in expression starting on line 1",
     "output_type": "error",
     "traceback": [
      "LoadError: MethodError: `plot` has no method matching plot(::Array{Float64,1}, ::Array{Float64,1})\nClosest candidates are:\n  plot{T<:Union{DataType,Function}}(!Matched::Array{T<:Union{DataType,Function},1}, ::Any, !Matched::Any, !Matched::Union{DataType,Function,Gadfly.Element,Gadfly.Theme}...)\n  plot(!Matched::Function, ::Any, !Matched::Any, !Matched::Union{DataType,Function,Gadfly.Element,Gadfly.Theme}...)\n  plot(!Matched::Function, ::Any, !Matched::Any, !Matched::Any, !Matched::Any, !Matched::Union{DataType,Function,Gadfly.Element,Gadfly.Theme}...)\nwhile loading In[15], in expression starting on line 1",
      ""
     ]
    }
   ],
   "source": [
    "plot(rand(6), rand(6))"
   ]
  },
  {
   "cell_type": "code",
   "execution_count": null,
   "metadata": {
    "collapsed": true
   },
   "outputs": [],
   "source": []
  }
 ],
 "metadata": {
  "kernelspec": {
   "display_name": "Julia 0.4.5",
   "language": "julia",
   "name": "julia-0.4"
  },
  "language_info": {
   "file_extension": ".jl",
   "mimetype": "application/julia",
   "name": "julia",
   "version": "0.4.5"
  }
 },
 "nbformat": 4,
 "nbformat_minor": 0
}
