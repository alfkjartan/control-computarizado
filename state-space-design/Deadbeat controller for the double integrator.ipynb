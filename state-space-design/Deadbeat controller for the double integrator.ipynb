{
 "cells": [
  {
   "cell_type": "markdown",
   "metadata": {},
   "source": [
    "# Deadbeat controller for the double integrator\n",
    "\n",
    "Consider a mass of 1kg moving in one direction on a friction-free horizontal surface. We can apply a force to the mass (input signal $u$), and the mass is also subject to disturbance forces $v$. We are interested in controlling the position $z$ of the mass. In continuous time the dynamics are described by\n",
    "$$ \\ddot{z} = u + v, $$\n",
    "which can also be represented as a state-space system with the state vector $x = \\begin{bmatrix} z & \\dot{z}\\end{bmatrix}^T$ as \n",
    "\\begin{align}\n",
    "\\dot{x} &= \\underbrace{\\begin{bmatrix} 0 & 1\\\\0 & 0\\end{bmatrix}}_{A}x + \\underbrace{\\begin{bmatrix}0\\\\1\\end{bmatrix}}_{B}u + \\underbrace{\\begin{bmatrix}0\\\\1\\end{bmatrix}}_{B}v\\\\\n",
    "y &= \\underbrace{\\begin{bmatrix}1 & 0 \\end{bmatrix}}_C x\n",
    "\\end{align}"
   ]
  },
  {
   "cell_type": "markdown",
   "metadata": {},
   "source": [
    "## Discrete-time state-space model\n",
    "The discrete-time model for a sampling period $h$ is\n",
    "\\begin{align}\n",
    "x(k+1) &= \\Phi(h)x(k) + \\Gamma(h)u + \\Gamma(h)v\\\\\n",
    "y(k) &= Cx(k)\n",
    "\\end{align}\n",
    "where\n",
    "$$ \\Phi(h) = \\mathrm{e}^{Ah} = \\begin{bmatrix} 1 & h\\\\0 & 1 \\end{bmatrix}$$\n",
    "and\n",
    "$$ \\Gamma(h) = \\int_0^h \\mathrm{e}^{As}B ds = \\begin{bmatrix} \\frac{h^2}{2}\\\\h \\end{bmatrix}.$$"
   ]
  },
  {
   "cell_type": "code",
   "execution_count": 6,
   "metadata": {},
   "outputs": [
    {
     "data": {
      "text/latex": [
       "$$\\left[\\begin{matrix}1 & h\\\\0 & 1\\end{matrix}\\right]$$"
      ],
      "text/plain": [
       "⎡1  h⎤\n",
       "⎢    ⎥\n",
       "⎣0  1⎦"
      ]
     },
     "execution_count": 6,
     "metadata": {},
     "output_type": "execute_result"
    }
   ],
   "source": [
    "# Verify\n",
    "import numpy as np\n",
    "import sympy as sy\n",
    "sy.init_printing(use_latex='mathjax')\n",
    "\n",
    "h = sy.symbols('h', real=True, positive=True)\n",
    "A = sy.Matrix([[0,1], [0,0]])\n",
    "B = sy.Matrix([[0],[1]])\n",
    "Phi = sy.simplify(sy.exp(A*h))\n",
    "Phi"
   ]
  },
  {
   "cell_type": "code",
   "execution_count": 9,
   "metadata": {},
   "outputs": [
    {
     "data": {
      "text/latex": [
       "$$\\left[\\begin{matrix}\\frac{h^{2}}{2}\\\\h\\end{matrix}\\right]$$"
      ],
      "text/plain": [
       "⎡ 2⎤\n",
       "⎢h ⎥\n",
       "⎢──⎥\n",
       "⎢2 ⎥\n",
       "⎢  ⎥\n",
       "⎣h ⎦"
      ]
     },
     "execution_count": 9,
     "metadata": {},
     "output_type": "execute_result"
    }
   ],
   "source": [
    "s = sy.symbols('s')\n",
    "Gamma = sy.integrate(sy.exp(A*s)*B, (s, 0, h))\n",
    "Gamma"
   ]
  },
  {
   "cell_type": "markdown",
   "metadata": {},
   "source": [
    "## Reachability \n",
    "The controllability matrix for this second order system becomes\n",
    "$$ W_c = \\begin{bmatrix} \\Gamma & \\Phi\\Gamma \\end{bmatrix} = \\begin{bmatrix} \\frac{h^2}{2} & \\frac{3h^2}{2}\\\\h & h\\end{bmatrix}, $$\n",
    "with determinant\n",
    "$$\\det W_c = \\frac{h^3}{2}(1 - 3) = -h^3,$$\n",
    "which is different from zero since $h>0$.\n",
    "It is hence possible to reach any point in the state-space from any other point in just two steps (two sampling periods)."
   ]
  },
  {
   "cell_type": "code",
   "execution_count": 16,
   "metadata": {},
   "outputs": [
    {
     "data": {
      "text/latex": [
       "$$\\left[\\begin{matrix}\\frac{h^{2}}{2} & \\frac{3 h^{2}}{2}\\\\h & h\\end{matrix}\\right]$$"
      ],
      "text/plain": [
       "⎡ 2     2⎤\n",
       "⎢h   3⋅h ⎥\n",
       "⎢──  ────⎥\n",
       "⎢2    2  ⎥\n",
       "⎢        ⎥\n",
       "⎣h    h  ⎦"
      ]
     },
     "execution_count": 16,
     "metadata": {},
     "output_type": "execute_result"
    }
   ],
   "source": [
    "# Verify\n",
    "Wc = sy.BlockMatrix([[Gamma, Phi*Gamma]]).as_explicit()\n",
    "Wc"
   ]
  },
  {
   "cell_type": "code",
   "execution_count": 17,
   "metadata": {},
   "outputs": [
    {
     "data": {
      "text/latex": [
       "$$- h^{3}$$"
      ],
      "text/plain": [
       "  3\n",
       "-h "
      ]
     },
     "execution_count": 17,
     "metadata": {},
     "output_type": "execute_result"
    }
   ],
   "source": [
    "sy.det(Wc)"
   ]
  },
  {
   "cell_type": "markdown",
   "metadata": {},
   "source": [
    "### Designing an input sequence\n",
    "We now know that the system is reachable. This means that we can take the system from the origin in the state-space (position zero and velocity zero) to any other point in state-space. And it can be done in only two steps with the input sequence\n",
    "$$ u(0), \\, u(1).$$\n",
    "Let's say we want to reach the point\n",
    "$$ x_d = \\begin{bmatrix} a\\\\b \\end{bmatrix},$$\n",
    "which in words is that we want the mass to be at $z=a$ and having the velocity $\\dot{z}=b$. The general solution for an n-th order discrete-time state space system is\n",
    "\\begin{align}\n",
    "x(n) &= \\Phi^n x(0) + \\Phi^{n-1}\\Gamma u(0) + \\Phi^{n-2}\\Gamma u(1) + \\cdots + \\Gamma u(n-1)\\\\\n",
    "&= \\Phi^n x(0) + W_cU, \n",
    "\\end{align}\n",
    "where\n",
    "$$ U = \\begin{bmatrix} u(n-1)\\\\u(n-2)\\\\\\vdots\\\\u(0)\\end{bmatrix}. $$\n",
    "In the case here we have $x(0)=0$ and this leads to the equation\n",
    "$$ W_cU = x_d, \\qquad \\text{with solution}$$\n",
    "\\begin{align}\n",
    "U &= \\begin{bmatrix}u(1)\\\\u(0)\\end{bmatrix} = W_c^{-1}x_d = \\begin{bmatrix} \\frac{h^2}{2} & \\frac{3h^2}{2}\\\\h & h\\end{bmatrix}^{-1} \\begin{bmatrix} a\\\\b \\end{bmatrix}\\\\\n",
    "&= \\frac{1}{-h^3} \\begin{bmatrix} h & -\\frac{3h^2}{2}\\\\-h & \\frac{h^2}{2} \\end{bmatrix} \\begin{bmatrix} a\\\\b \\end{bmatrix}\\\\\n",
    "&= \\begin{bmatrix} -\\frac{1}{h^2} & \\frac{3}{2h}\\\\\\frac{1}{h^2} & -\\frac{1}{2h} \\end{bmatrix} \\begin{bmatrix} a\\\\b \\end{bmatrix}\\\\\n",
    "&= \\begin{bmatrix} -\\frac{a}{h^2} + \\frac{3b}{2h}\\\\ \\frac{a}{h^2} - \\frac{b}{2h} \\end{bmatrix}.\n",
    "\\end{align}\n",
    "Thus the input sequence becomes $u(0) = \\frac{a}{h^2} - \\frac{b}{2h}$, $u(1) = \\frac{-a}{h^2} + \\frac{3b}{2h}$."
   ]
  },
  {
   "cell_type": "code",
   "execution_count": 19,
   "metadata": {},
   "outputs": [
    {
     "data": {
      "text/latex": [
       "$$\\left[\\begin{matrix}- \\frac{a}{h^{2}} + \\frac{3 b}{2 h}\\\\\\frac{a}{h^{2}} - \\frac{b}{2 h}\\end{matrix}\\right]$$"
      ],
      "text/plain": [
       "⎡  a    3⋅b⎤\n",
       "⎢- ── + ───⎥\n",
       "⎢   2   2⋅h⎥\n",
       "⎢  h       ⎥\n",
       "⎢          ⎥\n",
       "⎢ a     b  ⎥\n",
       "⎢ ── - ─── ⎥\n",
       "⎢  2   2⋅h ⎥\n",
       "⎣ h        ⎦"
      ]
     },
     "execution_count": 19,
     "metadata": {},
     "output_type": "execute_result"
    }
   ],
   "source": [
    "# Verify\n",
    "a,b = sy.symbols('a,b')\n",
    "U = Wc.inv()*sy.Matrix([[a],[b]])\n",
    "U"
   ]
  },
  {
   "cell_type": "code",
   "execution_count": 21,
   "metadata": {},
   "outputs": [
    {
     "data": {
      "text/latex": [
       "$$\\left[\\begin{matrix}a\\\\b\\end{matrix}\\right]$$"
      ],
      "text/plain": [
       "⎡a⎤\n",
       "⎢ ⎥\n",
       "⎣b⎦"
      ]
     },
     "execution_count": 21,
     "metadata": {},
     "output_type": "execute_result"
    }
   ],
   "source": [
    "# Simulate\n",
    "u0 = U[1,0]\n",
    "u1 = U[0,0]\n",
    "x0 = sy.Matrix([[0],[0]])\n",
    "x1 = Phi*x0 + Gamma*u0\n",
    "x2 = Phi*x1 + Gamma*u1\n",
    "sy.simplify(x2)"
   ]
  },
  {
   "cell_type": "markdown",
   "metadata": {},
   "source": [
    "## State feedback\n",
    "Introducing the state-feedback control law\n",
    "$$ u = -l_1x_1 - l_2 x_2 + l_0y_{ref} = -Lx + l_0y_{ref}$$\n",
    "gives the closed-loop state-space system\n",
    "\\begin{align}\n",
    "x(k+1) &= \\Phi x(k) +\\Gamma\\big(-Lx(k) + l_0y_{ref}(k)\\big) + \\Gamma v(k) = \\left( \\Phi - \\Gamma L \\right) x(k) + l_0\\Gamma y_{ref}(k) + \\Gamma v(k)\\\\\n",
    "y(k) &= C x(k)\n",
    "\\end{align}\n",
    "with characteristic polynomial given by\n",
    "\\begin{align}\n",
    "\\det \\left( zI - (\\Phi-\\Gamma L) \\right) &= \\det \\left( \\begin{bmatrix} z & 0\\\\0 & z \\end{bmatrix} - \\begin{bmatrix} 1 & h\\\\0 & 1 \\end{bmatrix} + \\begin{bmatrix} l_1\\frac{h^2}{2} & l_2\\frac{h^2}{2}\\\\ l_1h & l_2h \\end{bmatrix} \\right)\\\\\n",
    "&= \\det \\begin{bmatrix} z-1+l_1\\frac{h^2}{2} & -h+l_2\\frac{h^2}{2}\\\\l_1h & z-1+l_2h \n",
    "\\end{bmatrix}\\\\\n",
    "&= (z-1+l_1\\frac{h^2}{2})(z-1+l_2h) - l_1h(-h + l_2\\frac{h^2}{2})\\\\\n",
    "\\end{align}"
   ]
  },
  {
   "cell_type": "markdown",
   "metadata": {},
   "source": [
    "\\begin{align}\n",
    "&= z^2 + (-1+l_2h-1+l_1\\frac{h^2}{2}) z + (l1\\frac{h^2}{2}l_2h +l_1h^2 -l_1l_2\\frac{h^2}{2})\\\\\n",
    "&= z^2 + (l_1\\frac{h^2}{2}+l_2h-2) z + l_1h^2\n",
    "\\end{align}\n"
   ]
  },
  {
   "cell_type": "code",
   "execution_count": 27,
   "metadata": {},
   "outputs": [
    {
     "data": {
      "text/latex": [
       "$$\\frac{h^{2} l_{1}}{2} - h l_{2} + z^{2} + z \\left(\\frac{h^{2} l_{1}}{2} + h l_{2} - 2\\right) + 1$$"
      ],
      "text/plain": [
       " 2                    ⎛ 2              ⎞    \n",
       "h ⋅l₁           2     ⎜h ⋅l₁           ⎟    \n",
       "───── - h⋅l₂ + z  + z⋅⎜───── + h⋅l₂ - 2⎟ + 1\n",
       "  2                   ⎝  2             ⎠    "
      ]
     },
     "execution_count": 27,
     "metadata": {},
     "output_type": "execute_result"
    }
   ],
   "source": [
    "# Verify\n",
    "l1, l2 = sy.symbols('l1, l2', real=True)\n",
    "z = sy.symbols('z')\n",
    "L = sy.Matrix([[l1, l2]])\n",
    "ch_poly = sy.Poly((z*sy.eye(2) - (Phi - Gamma*L)).det(), z)\n",
    "ch_poly.as_expr()"
   ]
  },
  {
   "cell_type": "code",
   "execution_count": 23,
   "metadata": {},
   "outputs": [
    {
     "data": {
      "text/latex": [
       "$$\\left[\\begin{matrix}1 & 0 & 0\\\\0 & 1 & 0\\\\0 & 0 & 1\\end{matrix}\\right]$$"
      ],
      "text/plain": [
       "⎡1  0  0⎤\n",
       "⎢       ⎥\n",
       "⎢0  1  0⎥\n",
       "⎢       ⎥\n",
       "⎣0  0  1⎦"
      ]
     },
     "execution_count": 23,
     "metadata": {},
     "output_type": "execute_result"
    }
   ],
   "source": [
    "sy.eye(3)"
   ]
  },
  {
   "cell_type": "code",
   "execution_count": null,
   "metadata": {},
   "outputs": [],
   "source": []
  }
 ],
 "metadata": {
  "kernelspec": {
   "display_name": "Python 3",
   "language": "python",
   "name": "python3"
  },
  "language_info": {
   "codemirror_mode": {
    "name": "ipython",
    "version": 3
   },
   "file_extension": ".py",
   "mimetype": "text/x-python",
   "name": "python",
   "nbconvert_exporter": "python",
   "pygments_lexer": "ipython3",
   "version": "3.5.2"
  }
 },
 "nbformat": 4,
 "nbformat_minor": 2
}
