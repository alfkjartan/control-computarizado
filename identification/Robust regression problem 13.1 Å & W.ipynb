{
 "cells": [
  {
   "cell_type": "code",
   "execution_count": 2,
   "metadata": {},
   "outputs": [],
   "source": [
    "import numpy as np\n",
    "from cvxopt import solvers, lapack, matrix, spmatrix\n"
   ]
  },
  {
   "cell_type": "code",
   "execution_count": 42,
   "metadata": {},
   "outputs": [
    {
     "name": "stdout",
     "output_type": "stream",
     "text": [
      "     pcost       dcost       gap    pres   dres\n",
      " 0: -3.1983e+00  3.4609e+02  2e+03  1e-01  3e+01\n",
      " 1:  4.6834e+01 -3.0100e+01  8e+01  1e-03  3e-01\n",
      " 2:  2.6898e+01  1.6935e+01  1e+01  1e-04  3e-02\n",
      " 3:  2.4987e+01  2.3451e+01  2e+00  2e-05  4e-03\n",
      " 4:  2.4598e+01  2.4473e+01  1e-01  4e-07  9e-05\n",
      " 5:  2.4548e+01  2.4535e+01  1e-02  8e-17  1e-13\n",
      " 6:  2.4542e+01  2.4541e+01  2e-03  1e-16  1e-13\n",
      " 7:  2.4542e+01  2.4541e+01  2e-04  9e-17  1e-12\n",
      " 8:  2.4542e+01  2.4542e+01  3e-05  8e-17  2e-12\n",
      " 9:  2.4542e+01  2.4542e+01  4e-06  5e-17  3e-12\n",
      "Optimal solution found.\n",
      "Least squares solution: g_LS = 9.777574\n",
      "Huber solution: g_H = 9.566098\n"
     ]
    }
   ],
   "source": [
    "\n",
    "solvers.options['show_progress'] = 1\n",
    "\n",
    "m = 6 # Number of data points\n",
    "n = 1 # Number of variables\n",
    "tt = np.arange(1.0, m+1)\n",
    "yy = np.array([8.49, 20.05, 50.65, 72.19, 129.85, 171.56])\n",
    "#yy[3] += 100\n",
    "varphi = np.power(tt, 2)/2\n",
    "varphi.shape = (m, 1)\n",
    "\n",
    "A = matrix(varphi)\n",
    "b = matrix(yy)\n",
    "\n",
    "# Least squares solution.\n",
    "xls = np.dot( np.linalg.inv(np.dot(varphi.T, varphi)), np.dot(varphi.T, yy) )\n",
    "# Or\n",
    "xls = np.linalg.lstsq(varphi, yy)\n",
    "# Or\n",
    "xls = +b\n",
    "lapack.gels(+A, xls)\n",
    "xls = xls[:1]\n",
    "\n",
    "# Robust least squares.\n",
    "#\n",
    "# minimize  sum( h( A*x-b ))\n",
    "#\n",
    "# where h(u) = u^2           if |u| <= 1.0\n",
    "#            = 2*(|u| - 1.0) if |u| > 1.0.\n",
    "#\n",
    "# Solve as a QP (see exercise 4.5):\n",
    "#\n",
    "# minimize    (1/2) * u'*u + 1'*v\n",
    "# subject to  -u - v <= A*x-b <= u + v\n",
    "#             0 <= u <= 1\n",
    "#             v >= 0\n",
    "#\n",
    "# Variables  x (n), u (m), v(m)\n",
    "\n",
    "novars = n+2*m\n",
    "P = spmatrix([],[],[], (novars, novars))\n",
    "P[n:n+m,n:n+m] = spmatrix(1.0, range(m), range(m))\n",
    "q = matrix(0.0, (novars,1))\n",
    "q[-m:] = 1.0\n",
    "\n",
    "G = spmatrix([], [], [], (5*m, novars))\n",
    "h = matrix(0.0, (5*m,1))\n",
    "\n",
    "# A*x - b <= u+v\n",
    "G[:m,:n] = A\n",
    "G[:m,n:n+m] = spmatrix(-1.0, range(m), range(m))\n",
    "G[:m,n+m:] = spmatrix(-1.0, range(m), range(m))\n",
    "h[:m] = b\n",
    "\n",
    "# -u - v <= A*x - b\n",
    "G[m:2*m,:n] = -A\n",
    "G[m:2*m,n:n+m] = spmatrix(-1.0, range(m), range(m))\n",
    "G[m:2*m,n+m:] = spmatrix(-1.0, range(m), range(m))\n",
    "h[m:2*m] = -b\n",
    "\n",
    "# u >= 0\n",
    "G[2*m:3*m,n:n+m] = spmatrix(-1.0, range(m), range(m))\n",
    "\n",
    "# u <= 1\n",
    "G[3*m:4*m,n:n+m] = spmatrix(1.0, range(m), range(m))\n",
    "h[3*m:4*m] = 1.0\n",
    "\n",
    "# v >= 0\n",
    "G[4*m:,n+m:] = spmatrix(-1.0, range(m), range(m))\n",
    "\n",
    "xh = solvers.qp(P, q, G, h)['x'][:n]\n",
    "\n",
    "print \"Least squares solution: g_LS = %f\" % xls[0]\n",
    "print \"Huber solution: g_H = %f\" % xh[0]\n"
   ]
  },
  {
   "cell_type": "code",
   "execution_count": 28,
   "metadata": {},
   "outputs": [
    {
     "data": {
      "text/plain": [
       "<6x1 matrix, tc='d'>"
      ]
     },
     "execution_count": 28,
     "metadata": {},
     "output_type": "execute_result"
    }
   ],
   "source": [
    "b"
   ]
  },
  {
   "cell_type": "code",
   "execution_count": 29,
   "metadata": {},
   "outputs": [
    {
     "data": {
      "image/png": "[encoded data removed]",
      "text/plain": [
       "<Figure size 432x288 with 1 Axes>"
      ]
     },
     "metadata": {},
     "output_type": "display_data"
    }
   ],
   "source": [
    "import pylab\n",
    "pylab.figure(1,facecolor='w')\n",
    "pylab.plot(tt,yy,'o',\n",
    "        tt, varphi*xh[0], '-g',\n",
    "        tt, varphi*xls[0], '--r',\n",
    "        markerfacecolor='w', markeredgecolor='b')\n",
    "#pylab.axis([-11, 11, -20, 25])\n",
    "pylab.xlabel('t')\n",
    "pylab.ylabel('f(t)')\n",
    "pylab.title('Robust regression')\n",
    "pylab.show()"
   ]
  },
  {
   "cell_type": "code",
   "execution_count": 32,
   "metadata": {},
   "outputs": [],
   "source": [
    "a = +b"
   ]
  },
  {
   "cell_type": "code",
   "execution_count": 33,
   "metadata": {},
   "outputs": [
    {
     "data": {
      "text/plain": [
       "<6x1 matrix, tc='d'>"
      ]
     },
     "execution_count": 33,
     "metadata": {},
     "output_type": "execute_result"
    }
   ],
   "source": [
    "a"
   ]
  },
  {
   "cell_type": "code",
   "execution_count": 34,
   "metadata": {},
   "outputs": [
    {
     "data": {
      "text/plain": [
       "50.65"
      ]
     },
     "execution_count": 34,
     "metadata": {},
     "output_type": "execute_result"
    }
   ],
   "source": [
    "a[2]"
   ]
  },
  {
   "cell_type": "code",
   "execution_count": 35,
   "metadata": {},
   "outputs": [],
   "source": [
    "a[2] += 3"
   ]
  },
  {
   "cell_type": "code",
   "execution_count": 37,
   "metadata": {},
   "outputs": [
    {
     "data": {
      "text/plain": [
       "50.65"
      ]
     },
     "execution_count": 37,
     "metadata": {},
     "output_type": "execute_result"
    }
   ],
   "source": [
    "b[2]"
   ]
  },
  {
   "cell_type": "code",
   "execution_count": null,
   "metadata": {},
   "outputs": [],
   "source": []
  }
 ],
 "metadata": {
  "kernelspec": {
   "display_name": "Python 2",
   "language": "python",
   "name": "python2"
  },
  "language_info": {
   "codemirror_mode": {
    "name": "ipython",
    "version": 2
   },
   "file_extension": ".py",
   "mimetype": "text/x-python",
   "name": "python",
   "nbconvert_exporter": "python",
   "pygments_lexer": "ipython2",
   "version": "2.7.12"
  }
 },
 "nbformat": 4,
 "nbformat_minor": 2
}
